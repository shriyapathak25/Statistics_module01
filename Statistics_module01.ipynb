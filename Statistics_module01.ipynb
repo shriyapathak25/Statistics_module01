{
  "nbformat": 4,
  "nbformat_minor": 0,
  "metadata": {
    "colab": {
      "provenance": []
    },
    "kernelspec": {
      "name": "python3",
      "display_name": "Python 3"
    },
    "language_info": {
      "name": "python"
    }
  },
  "cells": [
    {
      "cell_type": "markdown",
      "source": [
        "**ans 1**\n",
        "- Qualitative data: Describes characteristics or qualities e.g., colors, names, types\n",
        "- Quantitative data: Numerical data that can be measured or counted e.g. height, weight, age\n",
        "- Nominal scale: Categorizes data without order e.g., colors, names\n",
        "- Ordinal scale: Ranks data in order, but differences between ranks are not equal e.g., education level: high school, college, graduate\n",
        "- Interval scale: Measures data with equal intervals, but no true zero point e.g., temperature in Celsius\n",
        "- Ratio scale: Measures data with equal intervals and a true zero point e.g., weight, height\n",
        "\n",
        "**ans 2**\n",
        "- Mean: Average value of a dataset use when data is normally distributed\n",
        "- Median: Middle value of a dataset use when data is skewed or has outliers\n",
        "- Mode: Most frequently occurring value in a dataset use when data is categorical\n",
        "\n",
        "**ans 3**\n",
        "- Dispersion: Spread of data from the mean value.\n",
        "- Variance: Average of the squared differences from the mean measures spread\n",
        "- Standard Deviation: Square root of variance measures spread\n",
        "\n",
        "**ans 4**\n",
        "- Box Plot: Visual representation of a dataset's distribution.\n",
        "- Shows:\n",
        "    - Median (middle line)\n",
        "    - Quartiles (boxes)\n",
        "    - Outliers (individual points)\n",
        "    - Spread of data\n",
        "\n",
        "**ans 5**\n",
        "- Random Sampling: Selecting a subset of data from a population randomly.\n",
        "- Allows:\n",
        "    - Making inferences about the population\n",
        "    - Reducing bias and increasing accuracy\n",
        "\n",
        "**ans 6**\n",
        "Skewness: Measure of asymmetry in a distribution.\n",
        "Types of Skewness:\n",
        "+ Positive Skewness: Tail on the right side (e.g., income distribution).\n",
        "+ Negative Skewness: Tail on the left side (e.g., age distribution).\n",
        "+ Symmetric Skewness: No tail (e.g., normal distribution).\n",
        "Effect on Interpretation: Skewness affects the interpretation of mean and median values.\n",
        "\n",
        "**ans 7**\n",
        "IQR: Difference between the 75th percentile (Q3) and the 25th percentile (Q1).\n",
        "Detecting Outliers: Data points below Q1 - 1.5_IQR or above Q3 + 1.5_IQR are considered outliers.\n",
        "\n",
        "**ans 8**\n",
        "+ There are a fixed number of trials.\n",
        "+ Each trial has only two possible outcomes (success or failure).\n",
        "+ The probability of success remains constant.\n",
        "+ Trials are independent.\n",
        "\n",
        "**ans 9**\n",
        "Normal Distribution: Symmetric, bell-shaped distribution.\n",
        "Empirical Rule (68-95-99.7 Rule): About 68% of data falls within 1 standard deviation, 95% within 2 standard deviations, and 99.7% within 3 standard deviations.\n",
        "\n",
        "**ans 10**\n",
        "Poisson Process: Models the number of events occurring in a fixed interval.\n",
        "Example: Number of phone calls received by a call center in an hour.\n",
        "Probability Calculation: Use the Poisson distribution formula to calculate probabilities.\n",
        "\n",
        "**ans 11**\n",
        "Random Variable: A variable whose value is determined by chance.\n",
        "Discrete Random Variable: Takes on distinct, countable values (e.g., number of heads in coin tosses).\n",
        "Continuous Random Variable: Takes on any value within a given range or interval (e.g., height of a person).\n",
        "\n",
        "**ans 12**\n",
        "Covariance: Measures the linear relationship between two variables.\n",
        "Correlation: Standardized covariance, ranging from -1 to 1.\n",
        "Example Dataset: Calculate covariance and correlation between two variables, such as height and weight.\n",
        "Interpretation: Correlation coefficient indicates the strength and direction of the linear relationship."
      ],
      "metadata": {
        "id": "SKV-T1Ttq2GN"
      }
    }
  ]
}